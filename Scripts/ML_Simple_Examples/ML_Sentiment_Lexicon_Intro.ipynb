{
 "cells": [
  {
   "cell_type": "code",
   "execution_count": 1,
   "metadata": {
    "collapsed": true,
    "deletable": true,
    "editable": true
   },
   "outputs": [],
   "source": [
    "import os\n",
    "import tweepy\n",
    "from textblob import TextBlob"
   ]
  },
  {
   "cell_type": "markdown",
   "metadata": {
    "deletable": true,
    "editable": true
   },
   "source": [
    "# Let's start by learning how to work with TextBlob\n",
    "\n",
    "Textblob tokenizes a string of data and also has a lexicon dictionary to make it simple to get the sentiment polarity on a given blob."
   ]
  },
  {
   "cell_type": "code",
   "execution_count": 3,
   "metadata": {
    "collapsed": true,
    "deletable": true,
    "editable": true
   },
   "outputs": [],
   "source": [
    "blob1 = TextBlob(\"Here is a tokenized text blob\")"
   ]
  },
  {
   "cell_type": "code",
   "execution_count": 4,
   "metadata": {
    "collapsed": false,
    "deletable": true,
    "editable": true
   },
   "outputs": [
    {
     "data": {
      "text/plain": [
       "[('Here', 'RB'),\n",
       " ('is', 'VBZ'),\n",
       " ('a', 'DT'),\n",
       " ('tokenized', 'JJ'),\n",
       " ('text', 'NN'),\n",
       " ('blob', 'NN')]"
      ]
     },
     "execution_count": 4,
     "metadata": {},
     "output_type": "execute_result"
    }
   ],
   "source": [
    "blob1.tags"
   ]
  },
  {
   "cell_type": "code",
   "execution_count": 5,
   "metadata": {
    "collapsed": false,
    "deletable": true,
    "editable": true
   },
   "outputs": [
    {
     "data": {
      "text/plain": [
       "WordList(['Here', 'is', 'a', 'tokenized', 'text', 'blob'])"
      ]
     },
     "execution_count": 5,
     "metadata": {},
     "output_type": "execute_result"
    }
   ],
   "source": [
    "blob1.words"
   ]
  },
  {
   "cell_type": "code",
   "execution_count": 6,
   "metadata": {
    "collapsed": false,
    "deletable": true,
    "editable": true
   },
   "outputs": [
    {
     "data": {
      "text/plain": [
       "0.0"
      ]
     },
     "execution_count": 6,
     "metadata": {},
     "output_type": "execute_result"
    }
   ],
   "source": [
    "blob1.sentiment.polarity"
   ]
  },
  {
   "cell_type": "code",
   "execution_count": 7,
   "metadata": {
    "collapsed": false,
    "deletable": true,
    "editable": true
   },
   "outputs": [
    {
     "data": {
      "text/plain": [
       "0.8"
      ]
     },
     "execution_count": 7,
     "metadata": {},
     "output_type": "execute_result"
    }
   ],
   "source": [
    "happy = TextBlob(\"This notebook is absolutely amazing and I think it's the best thing ever\")\n",
    "happy.sentiment.polarity"
   ]
  },
  {
   "cell_type": "code",
   "execution_count": 8,
   "metadata": {
    "collapsed": false,
    "deletable": true,
    "editable": true
   },
   "outputs": [
    {
     "data": {
      "text/plain": [
       "-0.375"
      ]
     },
     "execution_count": 8,
     "metadata": {},
     "output_type": "execute_result"
    }
   ],
   "source": [
    "mad = TextBlob(\"I hate this shit, it's the most terrible product I've ever seen.\")\n",
    "mad.sentiment.polarity"
   ]
  },
  {
   "cell_type": "markdown",
   "metadata": {
    "deletable": true,
    "editable": true
   },
   "source": [
    "# Now Let's get some twitter data to do some actual anlaysis"
   ]
  },
  {
   "cell_type": "code",
   "execution_count": 13,
   "metadata": {
    "collapsed": false,
    "deletable": true,
    "editable": true
   },
   "outputs": [],
   "source": [
    "consumer_key = os.environ['TWITTER_CONSUMER_KEY']\n",
    "consumer_secret = os.environ['TWITTER_CONSUMER_SECRET']\n",
    "access_token = os.environ['TWITTER_ACCESS_TOKEN']\n",
    "access_token_secret = os.environ['TWITTER_TOKEN_SECRET']\n",
    "auth = tweepy.OAuthHandler(consumer_key, consumer_secret)\n",
    "auth.set_access_token(access_token, access_token_secret)\n",
    "api = tweepy.API(auth)"
   ]
  },
  {
   "cell_type": "code",
   "execution_count": 14,
   "metadata": {
    "collapsed": false,
    "deletable": true,
    "editable": true
   },
   "outputs": [],
   "source": [
    "public_tweets = api.search(\"Trump\")"
   ]
  },
  {
   "cell_type": "code",
   "execution_count": 15,
   "metadata": {
    "collapsed": false,
    "deletable": true,
    "editable": true,
    "scrolled": true
   },
   "outputs": [
    {
     "name": "stdout",
     "output_type": "stream",
     "text": [
      "RT @fawfulfan: Trump's budget eliminates NEA, NPR, PBS, AmeriCorps, and the State Children's Health Insurance Program. More people should b…\n",
      "Sentiment(polarity=0.5, subjectivity=0.5)\n",
      "RT @DrMartyFox: The Anti Semitic President\n",
      "\n",
      "Hostile To #Jews &amp; #Israel\n",
      "\n",
      "THAT WOULD BE #OBAMA\n",
      "\n",
      "Levin Defends #PresidentTrump (AUDIO)\n",
      "\n",
      "https:…\n",
      "Sentiment(polarity=0.0, subjectivity=0.0)\n",
      "RT @VP: Next stop St. Louis to discuss @POTUS Trump's plans to help small businesses, create jobs &amp; repeal/replace Obamacare. https://t.co/…\n",
      "Sentiment(polarity=-0.125, subjectivity=0.2)\n",
      "RT @ThePatriot143: BREAKING : Liberals Target Pro-Trump Teacher for Termination – TruthFeed https://t.co/xy38xXlwHV\n",
      "Sentiment(polarity=0.0, subjectivity=0.0)\n",
      "RT @markberman: \"Donald J. Trump statement on preventing Muslim immigration\" is the headline on the statement (still on his website) https:…\n",
      "Sentiment(polarity=0.0, subjectivity=0.0)\n",
      "Ik vind een @YouTube-video van @nextnewsnet leuk: https://t.co/ZQCQDK4Bak BREAKING: TRUMP'S AMERICA IS OVER! JANET YELLEN IS ABOUT TO\n",
      "Sentiment(polarity=0.0, subjectivity=0.0)\n",
      "RT @Conservatexian: News post: \"Late Show Host Stephen Colbert Apologizes To ISIS, Recently Unseated By Trump As “The Enemy Of The Ame… htt…\n",
      "Sentiment(polarity=-0.15, subjectivity=0.425)\n",
      "Once-Great Liberal Journal: Trump Probably Has SYPHILIS https://t.co/cmDdLQunSr via @dailycaller\n",
      "Sentiment(polarity=0.0, subjectivity=0.0)\n",
      "RT @goldenmoustache: Donald Trump signe la construction d'un mur entre les Etats-Unis et les exoplanètes découvertes par la NASA.\n",
      "\n",
      "https://…\n",
      "Sentiment(polarity=0.0, subjectivity=0.0)\n",
      "RT @markberman: \"Donald J. Trump statement on preventing Muslim immigration\" is the headline on the statement (still on his website) https:…\n",
      "Sentiment(polarity=0.0, subjectivity=0.0)\n",
      "RT @RealJamesWoods: The ever eloquent Maxine Waters, ladies and gentlemen... https://t.co/4DOSIWuSQS\n",
      "Sentiment(polarity=0.0, subjectivity=0.0)\n",
      "@PureHarmony10 You support a hateful person like Trump but you can't bring yourself to type 'shit'?\n",
      "@lisamurphy90\n",
      "Sentiment(polarity=-0.2, subjectivity=0.8)\n",
      "RT @InGodIDoTrust: I smell a community organizer behind this blatant abuse of children. https://t.co/YunDXnaFRL\n",
      "Sentiment(polarity=-0.45, subjectivity=0.6)\n",
      "RT @Democrat_4Trump: Another mozzie retard who hates woman &amp; Christians. I've got news for these idiots...Trump will be president for 8 yea…\n",
      "Sentiment(polarity=-0.9, subjectivity=1.0)\n",
      "RT @SaIIyYates: When Trump goes down remember that Ryan and McConnell knew but stayed silent.\n",
      "\n",
      "They put America at risk to chase tax cuts f…\n",
      "Sentiment(polarity=-0.07777777777777779, subjectivity=0.19444444444444448)\n"
     ]
    }
   ],
   "source": [
    "for tweet in public_tweets:\n",
    "    print(tweet.text)\n",
    "    analysis = TextBlob(tweet.text)\n",
    "    print(analysis.sentiment)"
   ]
  },
  {
   "cell_type": "markdown",
   "metadata": {
    "deletable": true,
    "editable": true
   },
   "source": [
    "# Next Steps\n",
    "\n",
    "* Capture a significant amount of twitter data and perform sentiment analysis with this approach\n",
    "  * Try other libraries to see if they are faster\n",
    "* Do this at scale on a large data set using Spark\n",
    "* Implement this in a streaming framework\n",
    "* Use Tensorflow to do a deep learning nerual network and compare the results"
   ]
  }
 ],
 "metadata": {
  "kernelspec": {
   "display_name": "Python 3",
   "language": "python",
   "name": "python3"
  },
  "language_info": {
   "codemirror_mode": {
    "name": "ipython",
    "version": 3
   },
   "file_extension": ".py",
   "mimetype": "text/x-python",
   "name": "python",
   "nbconvert_exporter": "python",
   "pygments_lexer": "ipython3",
   "version": "3.6.0"
  }
 },
 "nbformat": 4,
 "nbformat_minor": 2
}
