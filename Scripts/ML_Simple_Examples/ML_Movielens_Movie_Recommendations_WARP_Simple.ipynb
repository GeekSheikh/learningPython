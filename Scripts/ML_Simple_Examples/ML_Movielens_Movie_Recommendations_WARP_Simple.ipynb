{
 "cells": [
  {
   "cell_type": "markdown",
   "metadata": {},
   "source": [
    "### [Light FM Docs](http://lyst.github.io/lightfm/docs/home.html)"
   ]
  },
  {
   "cell_type": "code",
   "execution_count": 63,
   "metadata": {
    "collapsed": false,
    "deletable": true,
    "editable": true
   },
   "outputs": [],
   "source": [
    "import numpy as np\n",
    "import pandas as pd\n",
    "from lightfm.datasets import fetch_movielens\n",
    "from lightfm import LightFM\n",
    "## WARNING thrown is not actually an issue, just an OSX OpenMP support due to gcc libraries.\n",
    "## Should be irrelevant at scale on linux"
   ]
  },
  {
   "cell_type": "markdown",
   "metadata": {
    "deletable": true,
    "editable": true
   },
   "source": [
    "# Get Data and Look at it"
   ]
  },
  {
   "cell_type": "code",
   "execution_count": 64,
   "metadata": {
    "collapsed": false
   },
   "outputs": [
    {
     "data": {
      "text/html": [
       "<div>\n",
       "<table border=\"1\" class=\"dataframe\">\n",
       "  <thead>\n",
       "    <tr style=\"text-align: right;\">\n",
       "      <th></th>\n",
       "      <th>item_feature_labels</th>\n",
       "      <th>item_features</th>\n",
       "      <th>item_labels</th>\n",
       "      <th>test</th>\n",
       "      <th>train</th>\n",
       "    </tr>\n",
       "  </thead>\n",
       "  <tbody>\n",
       "    <tr>\n",
       "      <th>0</th>\n",
       "      <td>Toy Story (1995)</td>\n",
       "      <td>(0, 0)\\t1.0\\n  (1, 1)\\t1.0\\n  (2, 2)\\t1.0\\n ...</td>\n",
       "      <td>Toy Story (1995)</td>\n",
       "      <td>(0, 19)\\t4\\n  (0, 32)\\t4\\n  (0, 60)\\t4\\n  (0...</td>\n",
       "      <td>(0, 0)\\t5\\n  (0, 2)\\t4\\n  (0, 5)\\t5\\n  (0, 6...</td>\n",
       "    </tr>\n",
       "    <tr>\n",
       "      <th>1</th>\n",
       "      <td>GoldenEye (1995)</td>\n",
       "      <td>(0, 0)\\t1.0\\n  (1, 1)\\t1.0\\n  (2, 2)\\t1.0\\n ...</td>\n",
       "      <td>GoldenEye (1995)</td>\n",
       "      <td>(0, 19)\\t4\\n  (0, 32)\\t4\\n  (0, 60)\\t4\\n  (0...</td>\n",
       "      <td>(0, 0)\\t5\\n  (0, 2)\\t4\\n  (0, 5)\\t5\\n  (0, 6...</td>\n",
       "    </tr>\n",
       "    <tr>\n",
       "      <th>2</th>\n",
       "      <td>Four Rooms (1995)</td>\n",
       "      <td>(0, 0)\\t1.0\\n  (1, 1)\\t1.0\\n  (2, 2)\\t1.0\\n ...</td>\n",
       "      <td>Four Rooms (1995)</td>\n",
       "      <td>(0, 19)\\t4\\n  (0, 32)\\t4\\n  (0, 60)\\t4\\n  (0...</td>\n",
       "      <td>(0, 0)\\t5\\n  (0, 2)\\t4\\n  (0, 5)\\t5\\n  (0, 6...</td>\n",
       "    </tr>\n",
       "    <tr>\n",
       "      <th>3</th>\n",
       "      <td>Get Shorty (1995)</td>\n",
       "      <td>(0, 0)\\t1.0\\n  (1, 1)\\t1.0\\n  (2, 2)\\t1.0\\n ...</td>\n",
       "      <td>Get Shorty (1995)</td>\n",
       "      <td>(0, 19)\\t4\\n  (0, 32)\\t4\\n  (0, 60)\\t4\\n  (0...</td>\n",
       "      <td>(0, 0)\\t5\\n  (0, 2)\\t4\\n  (0, 5)\\t5\\n  (0, 6...</td>\n",
       "    </tr>\n",
       "    <tr>\n",
       "      <th>4</th>\n",
       "      <td>Copycat (1995)</td>\n",
       "      <td>(0, 0)\\t1.0\\n  (1, 1)\\t1.0\\n  (2, 2)\\t1.0\\n ...</td>\n",
       "      <td>Copycat (1995)</td>\n",
       "      <td>(0, 19)\\t4\\n  (0, 32)\\t4\\n  (0, 60)\\t4\\n  (0...</td>\n",
       "      <td>(0, 0)\\t5\\n  (0, 2)\\t4\\n  (0, 5)\\t5\\n  (0, 6...</td>\n",
       "    </tr>\n",
       "  </tbody>\n",
       "</table>\n",
       "</div>"
      ],
      "text/plain": [
       "  item_feature_labels                                      item_features  \\\n",
       "0    Toy Story (1995)    (0, 0)\\t1.0\\n  (1, 1)\\t1.0\\n  (2, 2)\\t1.0\\n ...   \n",
       "1    GoldenEye (1995)    (0, 0)\\t1.0\\n  (1, 1)\\t1.0\\n  (2, 2)\\t1.0\\n ...   \n",
       "2   Four Rooms (1995)    (0, 0)\\t1.0\\n  (1, 1)\\t1.0\\n  (2, 2)\\t1.0\\n ...   \n",
       "3   Get Shorty (1995)    (0, 0)\\t1.0\\n  (1, 1)\\t1.0\\n  (2, 2)\\t1.0\\n ...   \n",
       "4      Copycat (1995)    (0, 0)\\t1.0\\n  (1, 1)\\t1.0\\n  (2, 2)\\t1.0\\n ...   \n",
       "\n",
       "         item_labels                                               test  \\\n",
       "0   Toy Story (1995)    (0, 19)\\t4\\n  (0, 32)\\t4\\n  (0, 60)\\t4\\n  (0...   \n",
       "1   GoldenEye (1995)    (0, 19)\\t4\\n  (0, 32)\\t4\\n  (0, 60)\\t4\\n  (0...   \n",
       "2  Four Rooms (1995)    (0, 19)\\t4\\n  (0, 32)\\t4\\n  (0, 60)\\t4\\n  (0...   \n",
       "3  Get Shorty (1995)    (0, 19)\\t4\\n  (0, 32)\\t4\\n  (0, 60)\\t4\\n  (0...   \n",
       "4     Copycat (1995)    (0, 19)\\t4\\n  (0, 32)\\t4\\n  (0, 60)\\t4\\n  (0...   \n",
       "\n",
       "                                               train  \n",
       "0    (0, 0)\\t5\\n  (0, 2)\\t4\\n  (0, 5)\\t5\\n  (0, 6...  \n",
       "1    (0, 0)\\t5\\n  (0, 2)\\t4\\n  (0, 5)\\t5\\n  (0, 6...  \n",
       "2    (0, 0)\\t5\\n  (0, 2)\\t4\\n  (0, 5)\\t5\\n  (0, 6...  \n",
       "3    (0, 0)\\t5\\n  (0, 2)\\t4\\n  (0, 5)\\t5\\n  (0, 6...  \n",
       "4    (0, 0)\\t5\\n  (0, 2)\\t4\\n  (0, 5)\\t5\\n  (0, 6...  "
      ]
     },
     "execution_count": 64,
     "metadata": {},
     "output_type": "execute_result"
    }
   ],
   "source": [
    "# Get the Data\n",
    "data = fetch_movielens(min_rating=4.0)\n",
    "# Create the dataframe\n",
    "dataDF = pd.DataFrame.from_dict(data, orient='columns')\n",
    "dataDF.head()"
   ]
  },
  {
   "cell_type": "code",
   "execution_count": 65,
   "metadata": {
    "collapsed": false,
    "deletable": true,
    "editable": true
   },
   "outputs": [
    {
     "name": "stdout",
     "output_type": "stream",
     "text": [
      "<class 'dict'>\n",
      "<943x1682 sparse matrix of type '<class 'numpy.int32'>'\n",
      "\twith 49906 stored elements in COOrdinate format>\n",
      "<943x1682 sparse matrix of type '<class 'numpy.int32'>'\n",
      "\twith 5469 stored elements in COOrdinate format>\n"
     ]
    }
   ],
   "source": [
    "# Use Numpy to look at the shape of the test and train data sets\n",
    "print(type(data))\n",
    "print(repr(data['train']))\n",
    "print(repr(data['test']))"
   ]
  },
  {
   "cell_type": "code",
   "execution_count": 66,
   "metadata": {
    "collapsed": false
   },
   "outputs": [
    {
     "name": "stdout",
     "output_type": "stream",
     "text": [
      "<class 'scipy.sparse.coo.coo_matrix'>\n"
     ]
    }
   ],
   "source": [
    "# The nested data type is scipy matrix\n",
    "print(type(data['train']))\n",
    "#print(data['train'])"
   ]
  },
  {
   "cell_type": "code",
   "execution_count": 67,
   "metadata": {
    "collapsed": false
   },
   "outputs": [
    {
     "data": {
      "text/plain": [
       "(1682, 2)"
      ]
     },
     "execution_count": 67,
     "metadata": {},
     "output_type": "execute_result"
    }
   ],
   "source": [
    "# Use Pandas to get familiar with the test and train data sets\n",
    "dataDF.loc[:, ['test', 'train']].shape"
   ]
  },
  {
   "cell_type": "markdown",
   "metadata": {
    "deletable": true,
    "editable": true
   },
   "source": [
    "Create the model\n",
    "\n",
    "Here, we'll use a \"WARP\" (Weighted Approximate-Rank Pairwise) method.\n",
    "Basically a weighted gradient descent model that will use regression\n",
    "to minimize the error."
   ]
  },
  {
   "cell_type": "code",
   "execution_count": 68,
   "metadata": {
    "collapsed": false,
    "deletable": true,
    "editable": true
   },
   "outputs": [
    {
     "data": {
      "text/plain": [
       "<lightfm.lightfm.LightFM at 0x10a38f390>"
      ]
     },
     "execution_count": 68,
     "metadata": {},
     "output_type": "execute_result"
    }
   ],
   "source": [
    "# Create Model\n",
    "model = LightFM(loss='warp')\n",
    "# Fit Mode\n",
    "model.fit(data['train'], epochs=30, num_threads=2)"
   ]
  },
  {
   "cell_type": "code",
   "execution_count": 69,
   "metadata": {
    "collapsed": true,
    "deletable": true,
    "editable": true
   },
   "outputs": [],
   "source": [
    "def sample_rec(model, data, user_ids):\n",
    "    \n",
    "    #number of users and movies in training data\n",
    "    n_users, n_items = data['train'].shape\n",
    "    \n",
    "    #generate recommendations for each user we input\n",
    "    for user_id in user_ids:\n",
    "        \n",
    "        #movies they already like\n",
    "        known_positives = data['item_labels'][data['train'].tocsr()[user_id].indices]\n",
    "        \n",
    "        #movies our model predicts they will like\n",
    "        scores = model.predict(user_id, np.arange(n_items))\n",
    "        \n",
    "        #rank them n order of most liked to least\n",
    "        top_items = data['item_labels'][np.argsort(-scores)]\n",
    "        \n",
    "        #print the results\n",
    "        print(\"User %s\" % user_id)\n",
    "        print(\"      Known positives: \")\n",
    "        \n",
    "        for x in known_positives[:3]:\n",
    "            print(\"        %s\" % x)\n",
    "            \n",
    "        print(\"       Recommended: \")\n",
    "        \n",
    "        for x in top_items[:3]:\n",
    "            print(\"         %s\" % x)"
   ]
  },
  {
   "cell_type": "code",
   "execution_count": 70,
   "metadata": {
    "collapsed": false,
    "deletable": true,
    "editable": true
   },
   "outputs": [
    {
     "name": "stdout",
     "output_type": "stream",
     "text": [
      "User 3\n",
      "      Known positives: \n",
      "        Seven (Se7en) (1995)\n",
      "        Contact (1997)\n",
      "        Starship Troopers (1997)\n",
      "       Recommended: \n",
      "         Scream (1996)\n",
      "         Contact (1997)\n",
      "         Air Force One (1997)\n",
      "User 25\n",
      "      Known positives: \n",
      "        Dead Man Walking (1995)\n",
      "        Star Wars (1977)\n",
      "        Fargo (1996)\n",
      "       Recommended: \n",
      "         English Patient, The (1996)\n",
      "         Titanic (1997)\n",
      "         L.A. Confidential (1997)\n",
      "User 450\n",
      "      Known positives: \n",
      "        Contact (1997)\n",
      "        George of the Jungle (1997)\n",
      "        Event Horizon (1997)\n",
      "       Recommended: \n",
      "         Scream (1996)\n",
      "         Dante's Peak (1997)\n",
      "         Conspiracy Theory (1997)\n"
     ]
    }
   ],
   "source": [
    "sample_rec(model, data, [3, 25, 450])"
   ]
  }
 ],
 "metadata": {
  "kernelspec": {
   "display_name": "Python 3",
   "language": "python",
   "name": "python3"
  },
  "language_info": {
   "codemirror_mode": {
    "name": "ipython",
    "version": 3
   },
   "file_extension": ".py",
   "mimetype": "text/x-python",
   "name": "python",
   "nbconvert_exporter": "python",
   "pygments_lexer": "ipython3",
   "version": "3.6.0"
  }
 },
 "nbformat": 4,
 "nbformat_minor": 2
}
