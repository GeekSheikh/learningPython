{
 "cells": [
  {
   "cell_type": "markdown",
   "metadata": {},
   "source": [
    "# Resources for ML - Getting Started\n",
    "\n",
    "[Recommended Book by Siraj](https://learnpythonthehardway.org/book/) for learning Python the hard way\n",
    "\n",
    "[Sci-Kit - Which Model To Use](http://scikit-learn.org/stable/tutorial/machine_learning_map/) - This is a great chart to help figure out which model to use for your data/problem\n",
    "\n",
    "\n",
    "\n"
   ]
  }
 ],
 "metadata": {
  "kernelspec": {
   "display_name": "Python 3",
   "language": "python",
   "name": "python3"
  },
  "language_info": {
   "codemirror_mode": {
    "name": "ipython",
    "version": 3
   },
   "file_extension": ".py",
   "mimetype": "text/x-python",
   "name": "python",
   "nbconvert_exporter": "python",
   "pygments_lexer": "ipython3",
   "version": "3.6.0"
  }
 },
 "nbformat": 4,
 "nbformat_minor": 2
}
