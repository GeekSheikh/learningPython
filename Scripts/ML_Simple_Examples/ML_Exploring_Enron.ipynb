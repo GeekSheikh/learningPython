{
 "cells": [
  {
   "cell_type": "code",
   "execution_count": 5,
   "metadata": {
    "collapsed": false,
    "deletable": true,
    "editable": true
   },
   "outputs": [],
   "source": [
    "import os\n",
    "import sys\n",
    "sys.path.append('/Users/daniel.tomes/Software/spark-2.1.0-bin-hadoop2.6/python/lib/py4j-0.10.4-src.zip')"
   ]
  },
  {
   "cell_type": "code",
   "execution_count": 6,
   "metadata": {
    "collapsed": false,
    "deletable": true,
    "editable": true
   },
   "outputs": [
    {
     "ename": "TypeError",
     "evalue": "namedtuple() missing 3 required keyword-only arguments: 'verbose', 'rename', and 'module'",
     "output_type": "error",
     "traceback": [
      "\u001b[0;31m---------------------------------------------------------------------------\u001b[0m",
      "\u001b[0;31mTypeError\u001b[0m                                 Traceback (most recent call last)",
      "\u001b[0;32m<ipython-input-6-d3f935788d47>\u001b[0m in \u001b[0;36m<module>\u001b[0;34m()\u001b[0m\n\u001b[1;32m      1\u001b[0m \u001b[0;32mfrom\u001b[0m \u001b[0memail\u001b[0m\u001b[0;34m.\u001b[0m\u001b[0mparser\u001b[0m \u001b[0;32mimport\u001b[0m \u001b[0mParser\u001b[0m\u001b[0;34m\u001b[0m\u001b[0m\n\u001b[1;32m      2\u001b[0m \u001b[0;32mfrom\u001b[0m \u001b[0mtextblob\u001b[0m \u001b[0;32mimport\u001b[0m \u001b[0mTextBlob\u001b[0m\u001b[0;34m\u001b[0m\u001b[0m\n\u001b[0;32m----> 3\u001b[0;31m \u001b[0;32mfrom\u001b[0m \u001b[0mpyspark\u001b[0m \u001b[0;32mimport\u001b[0m \u001b[0mSparkContext\u001b[0m\u001b[0;34m\u001b[0m\u001b[0m\n\u001b[0m\u001b[1;32m      4\u001b[0m \u001b[0;32mfrom\u001b[0m \u001b[0mpyspark\u001b[0m \u001b[0;32mimport\u001b[0m \u001b[0mSparkConf\u001b[0m\u001b[0;34m\u001b[0m\u001b[0m\n",
      "\u001b[0;32m/Users/daniel.tomes/Software/spark-2.1.0-bin-hadoop2.6/python/pyspark/__init__.py\u001b[0m in \u001b[0;36m<module>\u001b[0;34m()\u001b[0m\n\u001b[1;32m     42\u001b[0m \u001b[0;34m\u001b[0m\u001b[0m\n\u001b[1;32m     43\u001b[0m \u001b[0;32mfrom\u001b[0m \u001b[0mpyspark\u001b[0m\u001b[0;34m.\u001b[0m\u001b[0mconf\u001b[0m \u001b[0;32mimport\u001b[0m \u001b[0mSparkConf\u001b[0m\u001b[0;34m\u001b[0m\u001b[0m\n\u001b[0;32m---> 44\u001b[0;31m \u001b[0;32mfrom\u001b[0m \u001b[0mpyspark\u001b[0m\u001b[0;34m.\u001b[0m\u001b[0mcontext\u001b[0m \u001b[0;32mimport\u001b[0m \u001b[0mSparkContext\u001b[0m\u001b[0;34m\u001b[0m\u001b[0m\n\u001b[0m\u001b[1;32m     45\u001b[0m \u001b[0;32mfrom\u001b[0m \u001b[0mpyspark\u001b[0m\u001b[0;34m.\u001b[0m\u001b[0mrdd\u001b[0m \u001b[0;32mimport\u001b[0m \u001b[0mRDD\u001b[0m\u001b[0;34m\u001b[0m\u001b[0m\n\u001b[1;32m     46\u001b[0m \u001b[0;32mfrom\u001b[0m \u001b[0mpyspark\u001b[0m\u001b[0;34m.\u001b[0m\u001b[0mfiles\u001b[0m \u001b[0;32mimport\u001b[0m \u001b[0mSparkFiles\u001b[0m\u001b[0;34m\u001b[0m\u001b[0m\n",
      "\u001b[0;32m/Users/daniel.tomes/Software/spark-2.1.0-bin-hadoop2.6/python/pyspark/context.py\u001b[0m in \u001b[0;36m<module>\u001b[0;34m()\u001b[0m\n\u001b[1;32m     38\u001b[0m     \u001b[0mPairDeserializer\u001b[0m\u001b[0;34m,\u001b[0m \u001b[0mAutoBatchedSerializer\u001b[0m\u001b[0;34m,\u001b[0m \u001b[0mNoOpSerializer\u001b[0m\u001b[0;34m\u001b[0m\u001b[0m\n\u001b[1;32m     39\u001b[0m \u001b[0;32mfrom\u001b[0m \u001b[0mpyspark\u001b[0m\u001b[0;34m.\u001b[0m\u001b[0mstoragelevel\u001b[0m \u001b[0;32mimport\u001b[0m \u001b[0mStorageLevel\u001b[0m\u001b[0;34m\u001b[0m\u001b[0m\n\u001b[0;32m---> 40\u001b[0;31m \u001b[0;32mfrom\u001b[0m \u001b[0mpyspark\u001b[0m\u001b[0;34m.\u001b[0m\u001b[0mrdd\u001b[0m \u001b[0;32mimport\u001b[0m \u001b[0mRDD\u001b[0m\u001b[0;34m,\u001b[0m \u001b[0m_load_from_socket\u001b[0m\u001b[0;34m,\u001b[0m \u001b[0mignore_unicode_prefix\u001b[0m\u001b[0;34m\u001b[0m\u001b[0m\n\u001b[0m\u001b[1;32m     41\u001b[0m \u001b[0;32mfrom\u001b[0m \u001b[0mpyspark\u001b[0m\u001b[0;34m.\u001b[0m\u001b[0mtraceback_utils\u001b[0m \u001b[0;32mimport\u001b[0m \u001b[0mCallSite\u001b[0m\u001b[0;34m,\u001b[0m \u001b[0mfirst_spark_call\u001b[0m\u001b[0;34m\u001b[0m\u001b[0m\n\u001b[1;32m     42\u001b[0m \u001b[0;32mfrom\u001b[0m \u001b[0mpyspark\u001b[0m\u001b[0;34m.\u001b[0m\u001b[0mstatus\u001b[0m \u001b[0;32mimport\u001b[0m \u001b[0mStatusTracker\u001b[0m\u001b[0;34m\u001b[0m\u001b[0m\n",
      "\u001b[0;32m/Users/daniel.tomes/Software/spark-2.1.0-bin-hadoop2.6/python/pyspark/rdd.py\u001b[0m in \u001b[0;36m<module>\u001b[0;34m()\u001b[0m\n\u001b[1;32m     51\u001b[0m \u001b[0;32mfrom\u001b[0m \u001b[0mpyspark\u001b[0m\u001b[0;34m.\u001b[0m\u001b[0mshuffle\u001b[0m \u001b[0;32mimport\u001b[0m \u001b[0mAggregator\u001b[0m\u001b[0;34m,\u001b[0m \u001b[0mExternalMerger\u001b[0m\u001b[0;34m,\u001b[0m\u001b[0;31m \u001b[0m\u001b[0;31m\\\u001b[0m\u001b[0;34m\u001b[0m\u001b[0m\n\u001b[1;32m     52\u001b[0m     \u001b[0mget_used_memory\u001b[0m\u001b[0;34m,\u001b[0m \u001b[0mExternalSorter\u001b[0m\u001b[0;34m,\u001b[0m \u001b[0mExternalGroupBy\u001b[0m\u001b[0;34m\u001b[0m\u001b[0m\n\u001b[0;32m---> 53\u001b[0;31m \u001b[0;32mfrom\u001b[0m \u001b[0mpyspark\u001b[0m\u001b[0;34m.\u001b[0m\u001b[0mtraceback_utils\u001b[0m \u001b[0;32mimport\u001b[0m \u001b[0mSCCallSiteSync\u001b[0m\u001b[0;34m\u001b[0m\u001b[0m\n\u001b[0m\u001b[1;32m     54\u001b[0m \u001b[0;34m\u001b[0m\u001b[0m\n\u001b[1;32m     55\u001b[0m \u001b[0;34m\u001b[0m\u001b[0m\n",
      "\u001b[0;32m/Users/daniel.tomes/Software/spark-2.1.0-bin-hadoop2.6/python/pyspark/traceback_utils.py\u001b[0m in \u001b[0;36m<module>\u001b[0;34m()\u001b[0m\n\u001b[1;32m     21\u001b[0m \u001b[0;34m\u001b[0m\u001b[0m\n\u001b[1;32m     22\u001b[0m \u001b[0;34m\u001b[0m\u001b[0m\n\u001b[0;32m---> 23\u001b[0;31m \u001b[0mCallSite\u001b[0m \u001b[0;34m=\u001b[0m \u001b[0mnamedtuple\u001b[0m\u001b[0;34m(\u001b[0m\u001b[0;34m\"CallSite\"\u001b[0m\u001b[0;34m,\u001b[0m \u001b[0;34m\"function file linenum\"\u001b[0m\u001b[0;34m)\u001b[0m\u001b[0;34m\u001b[0m\u001b[0m\n\u001b[0m\u001b[1;32m     24\u001b[0m \u001b[0;34m\u001b[0m\u001b[0m\n\u001b[1;32m     25\u001b[0m \u001b[0;34m\u001b[0m\u001b[0m\n",
      "\u001b[0;32m/Users/daniel.tomes/Documents/Dev/learningPython/venv/lib/python3.6/collections/__init__.py\u001b[0m in \u001b[0;36mnamedtuple\u001b[0;34m(*args, **kwargs)\u001b[0m\n\u001b[1;32m    391\u001b[0m \u001b[0;34m\u001b[0m\u001b[0m\n\u001b[1;32m    392\u001b[0m     \u001b[0;32mdef\u001b[0m \u001b[0mnamedtuple\u001b[0m\u001b[0;34m(\u001b[0m\u001b[0;34m*\u001b[0m\u001b[0margs\u001b[0m\u001b[0;34m,\u001b[0m \u001b[0;34m**\u001b[0m\u001b[0mkwargs\u001b[0m\u001b[0;34m)\u001b[0m\u001b[0;34m:\u001b[0m\u001b[0;34m\u001b[0m\u001b[0m\n\u001b[0;32m--> 393\u001b[0;31m         \u001b[0mcls\u001b[0m \u001b[0;34m=\u001b[0m \u001b[0m_old_namedtuple\u001b[0m\u001b[0;34m(\u001b[0m\u001b[0;34m*\u001b[0m\u001b[0margs\u001b[0m\u001b[0;34m,\u001b[0m \u001b[0;34m**\u001b[0m\u001b[0mkwargs\u001b[0m\u001b[0;34m)\u001b[0m\u001b[0;34m\u001b[0m\u001b[0m\n\u001b[0m\u001b[1;32m    394\u001b[0m         \u001b[0;32mreturn\u001b[0m \u001b[0m_hack_namedtuple\u001b[0m\u001b[0;34m(\u001b[0m\u001b[0mcls\u001b[0m\u001b[0;34m)\u001b[0m\u001b[0;34m\u001b[0m\u001b[0m\n\u001b[1;32m    395\u001b[0m \u001b[0;34m\u001b[0m\u001b[0m\n",
      "\u001b[0;31mTypeError\u001b[0m: namedtuple() missing 3 required keyword-only arguments: 'verbose', 'rename', and 'module'"
     ]
    }
   ],
   "source": [
    "from email.parser import Parser\n",
    "from textblob import TextBlob\n",
    "from pyspark import SparkContext\n",
    "from pyspark import SparkConf"
   ]
  },
  {
   "cell_type": "code",
   "execution_count": 2,
   "metadata": {
    "collapsed": false,
    "deletable": true,
    "editable": true
   },
   "outputs": [
    {
     "data": {
      "text/plain": [
       "''"
      ]
     },
     "execution_count": 2,
     "metadata": {},
     "output_type": "execute_result"
    }
   ],
   "source": [
    "sc"
   ]
  },
  {
   "cell_type": "markdown",
   "metadata": {
    "deletable": true,
    "editable": true
   },
   "source": [
    "# Read A Single File and Parse it"
   ]
  },
  {
   "cell_type": "code",
   "execution_count": 3,
   "metadata": {
    "collapsed": true,
    "deletable": true,
    "editable": true
   },
   "outputs": [],
   "source": [
    "file_to_read = 'data/enron_emails/maildir/lay-k/inbox/10.'"
   ]
  },
  {
   "cell_type": "code",
   "execution_count": 5,
   "metadata": {
    "collapsed": true,
    "deletable": true,
    "editable": true
   },
   "outputs": [],
   "source": [
    "with open(file_to_read, \"r\") as f:\n",
    "    data = f.read()"
   ]
  },
  {
   "cell_type": "code",
   "execution_count": 6,
   "metadata": {
    "collapsed": true,
    "deletable": true,
    "editable": true
   },
   "outputs": [],
   "source": [
    "email = Parser().parsestr(data)"
   ]
  },
  {
   "cell_type": "code",
   "execution_count": 20,
   "metadata": {
    "collapsed": false,
    "deletable": true,
    "editable": true
   },
   "outputs": [
    {
     "name": "stdout",
     "output_type": "stream",
     "text": [
      "\n",
      "Message-ID:  <1122139.1075845189628.JavaMail.evans@thyme>\n"
     ]
    }
   ],
   "source": [
    "print(\"\\nMessage-ID: \", email['Message-ID'])"
   ]
  },
  {
   "cell_type": "code",
   "execution_count": 8,
   "metadata": {
    "collapsed": false,
    "deletable": true,
    "editable": true
   },
   "outputs": [
    {
     "name": "stdout",
     "output_type": "stream",
     "text": [
      "\n",
      "To:  kenneth.lay@enron.com\n"
     ]
    }
   ],
   "source": [
    "print(\"\\nTo: \" , email['to'])"
   ]
  },
  {
   "cell_type": "code",
   "execution_count": 10,
   "metadata": {
    "collapsed": false,
    "deletable": true,
    "editable": true
   },
   "outputs": [
    {
     "name": "stdout",
     "output_type": "stream",
     "text": [
      "\n",
      " From:  beau@layfam.com\n"
     ]
    }
   ],
   "source": [
    "print(\"\\n From: \", email['from'])"
   ]
  },
  {
   "cell_type": "code",
   "execution_count": 11,
   "metadata": {
    "collapsed": false,
    "deletable": true,
    "editable": true
   },
   "outputs": [
    {
     "name": "stdout",
     "output_type": "stream",
     "text": [
      "\n",
      " Subject:  LOC update\n"
     ]
    }
   ],
   "source": [
    "print(\"\\n Subject: \" , email['subject'])"
   ]
  },
  {
   "cell_type": "code",
   "execution_count": 12,
   "metadata": {
    "collapsed": false,
    "deletable": true,
    "editable": true
   },
   "outputs": [
    {
     "name": "stdout",
     "output_type": "stream",
     "text": [
      "\n",
      " \n",
      " Body:  \n",
      "PW line has a deficit of about $2.1 million.  We are on day 3.   We might have to fund the account around $2 million if it doesn't cure itself by  tomorrow.  Can we use the Enron line again now that it is paid-off or would  you rather use one of the other lines?  BA has approximately $5.9  million available, which has the most availability of all the lines.\n",
      " \n",
      "Please advise.\n",
      " \n",
      "- Beau\n"
     ]
    }
   ],
   "source": [
    "print(\"\\n \\n Body: \", email.get_payload())"
   ]
  },
  {
   "cell_type": "code",
   "execution_count": 15,
   "metadata": {
    "collapsed": true,
    "deletable": true,
    "editable": true
   },
   "outputs": [],
   "source": [
    "bodyBlob = TextBlob(email.get_payload())"
   ]
  },
  {
   "cell_type": "code",
   "execution_count": 139,
   "metadata": {
    "collapsed": false,
    "deletable": true,
    "editable": true
   },
   "outputs": [
    {
     "ename": "NameError",
     "evalue": "name 'bodyBlob' is not defined",
     "output_type": "error",
     "traceback": [
      "\u001b[0;31m---------------------------------------------------------------------------\u001b[0m",
      "\u001b[0;31mNameError\u001b[0m                                 Traceback (most recent call last)",
      "\u001b[0;32m<ipython-input-139-6a0b326ac8a0>\u001b[0m in \u001b[0;36m<module>\u001b[0;34m()\u001b[0m\n\u001b[0;32m----> 1\u001b[0;31m \u001b[0mbodyBlob\u001b[0m\u001b[0;34m.\u001b[0m\u001b[0msentiment\u001b[0m\u001b[0;34m\u001b[0m\u001b[0m\n\u001b[0m",
      "\u001b[0;31mNameError\u001b[0m: name 'bodyBlob' is not defined"
     ]
    }
   ],
   "source": [
    "bodyBlob.sentiment"
   ]
  },
  {
   "cell_type": "code",
   "execution_count": null,
   "metadata": {
    "collapsed": true,
    "deletable": true,
    "editable": true
   },
   "outputs": [],
   "source": [
    "bod"
   ]
  },
  {
   "cell_type": "markdown",
   "metadata": {
    "deletable": true,
    "editable": true
   },
   "source": [
    "# Read a Subset of Emails & Parse Them"
   ]
  },
  {
   "cell_type": "code",
   "execution_count": 3,
   "metadata": {
    "collapsed": true,
    "deletable": true,
    "editable": true
   },
   "outputs": [],
   "source": [
    "import os"
   ]
  },
  {
   "cell_type": "code",
   "execution_count": 4,
   "metadata": {
    "collapsed": true,
    "deletable": true,
    "editable": true
   },
   "outputs": [],
   "source": [
    "baseDir = 'data/enron_emails/maildir/lay-k'"
   ]
  },
  {
   "cell_type": "markdown",
   "metadata": {
    "deletable": true,
    "editable": true
   },
   "source": [
    "Let's make sure we have the directory looping correct os we can get all the files from each sub-dir"
   ]
  },
  {
   "cell_type": "code",
   "execution_count": 19,
   "metadata": {
    "collapsed": false,
    "deletable": true,
    "editable": true
   },
   "outputs": [
    {
     "name": "stdout",
     "output_type": "stream",
     "text": [
      "data/enron_emails/maildir/lay-k ['_sent', 'all_documents', 'business', 'calendar', 'compaq', 'deleted_items', 'discussion_threads', 'elizabeth', 'enron', 'family', 'inbox', 'notes_inbox', 'sec_panel', 'sent', 'sent_items'] 0\n",
      "data/enron_emails/maildir/lay-k/_sent [] 261\n",
      "data/enron_emails/maildir/lay-k/all_documents [] 1127\n",
      "data/enron_emails/maildir/lay-k/business [] 2\n",
      "data/enron_emails/maildir/lay-k/calendar [] 8\n",
      "data/enron_emails/maildir/lay-k/compaq [] 1\n",
      "data/enron_emails/maildir/lay-k/deleted_items [] 1126\n",
      "data/enron_emails/maildir/lay-k/discussion_threads [] 910\n",
      "data/enron_emails/maildir/lay-k/elizabeth [] 35\n",
      "data/enron_emails/maildir/lay-k/enron [] 5\n",
      "data/enron_emails/maildir/lay-k/family [] 8\n",
      "data/enron_emails/maildir/lay-k/inbox [] 1373\n",
      "data/enron_emails/maildir/lay-k/notes_inbox [] 799\n",
      "data/enron_emails/maildir/lay-k/sec_panel [] 3\n",
      "data/enron_emails/maildir/lay-k/sent [] 266\n",
      "data/enron_emails/maildir/lay-k/sent_items [] 13\n"
     ]
    }
   ],
   "source": [
    "for directory, subdirectory, filenames in os.walk(baseDir):\n",
    "    print(directory, subdirectory, len(filenames))"
   ]
  },
  {
   "cell_type": "code",
   "execution_count": 5,
   "metadata": {
    "collapsed": true,
    "deletable": true,
    "editable": true
   },
   "outputs": [],
   "source": [
    "def email_analysis(inputfile, to_message_id, to_email_list, from_email_list, email_body):\n",
    "    with open(inputfile, \"r\", encoding='utf-8', errors='ignore') as f:\n",
    "        data = f.read()\n",
    "    \n",
    "    email = Parser().parsestr(data)\n",
    "    \n",
    "    to_message_id.append(email['Message-ID'])\n",
    "    to_email_list.append(email['to'])\n",
    "    from_email_list.append(email['from'])\n",
    "    \n",
    "    email_body.append(email.get_payload())"
   ]
  },
  {
   "cell_type": "code",
   "execution_count": 6,
   "metadata": {
    "collapsed": false,
    "deletable": true,
    "editable": true
   },
   "outputs": [],
   "source": [
    "email_id = []\n",
    "email_to_list = []\n",
    "email_from_list = []\n",
    "email_body = []\n",
    "\n",
    "for directory, subdirectory, filenames in os.walk(baseDir):\n",
    "    for filename in filenames:\n",
    "        email_analysis(os.path.join(directory,filename), email_id, email_to_list, email_from_list, email_body)"
   ]
  },
  {
   "cell_type": "markdown",
   "metadata": {
    "deletable": true,
    "editable": true
   },
   "source": [
    "Let's check the length of each list to make sure none of them got skewed."
   ]
  },
  {
   "cell_type": "code",
   "execution_count": 7,
   "metadata": {
    "collapsed": false,
    "deletable": true,
    "editable": true
   },
   "outputs": [
    {
     "name": "stdout",
     "output_type": "stream",
     "text": [
      "Email IDs present: 5937\n",
      "Email Tos present: 5937\n",
      "Email Froms present: 5937\n",
      "Email Bodies present: 5937\n"
     ]
    }
   ],
   "source": [
    "print(\"Email IDs present: %s\" % len(email_id))\n",
    "print(\"Email Tos present: %s\" % len(email_to_list))\n",
    "print(\"Email Froms present: %s\" % len(email_from_list))\n",
    "print(\"Email Bodies present: %s\" % len(email_body))"
   ]
  },
  {
   "cell_type": "markdown",
   "metadata": {
    "deletable": true,
    "editable": true
   },
   "source": [
    "Excellent, they're al the same length, so now let's create a dict that we can then conver to a Pandas DF"
   ]
  },
  {
   "cell_type": "code",
   "execution_count": 8,
   "metadata": {
    "collapsed": true,
    "deletable": true,
    "editable": true
   },
   "outputs": [],
   "source": [
    "emailsDict = {'ID':email_id, 'To':email_to_list, 'From':email_from_list}"
   ]
  },
  {
   "cell_type": "code",
   "execution_count": 9,
   "metadata": {
    "collapsed": true,
    "deletable": true,
    "editable": true
   },
   "outputs": [],
   "source": [
    "import pandas as pd"
   ]
  },
  {
   "cell_type": "code",
   "execution_count": 117,
   "metadata": {
    "collapsed": false,
    "deletable": true,
    "editable": true
   },
   "outputs": [],
   "source": [
    "email_df = pd.DataFrame.from_dict(emailsDict)"
   ]
  },
  {
   "cell_type": "code",
   "execution_count": 11,
   "metadata": {
    "collapsed": false,
    "deletable": true,
    "editable": true
   },
   "outputs": [
    {
     "data": {
      "text/html": [
       "<div>\n",
       "<table border=\"1\" class=\"dataframe\">\n",
       "  <thead>\n",
       "    <tr style=\"text-align: right;\">\n",
       "      <th></th>\n",
       "      <th>From</th>\n",
       "      <th>ID</th>\n",
       "      <th>To</th>\n",
       "    </tr>\n",
       "  </thead>\n",
       "  <tbody>\n",
       "    <tr>\n",
       "      <th>0</th>\n",
       "      <td>rosalee.fleming@enron.com</td>\n",
       "      <td>&lt;18133935.1075840283210.JavaMail.evans@thyme&gt;</td>\n",
       "      <td>sherri.reinartz@enron.com</td>\n",
       "    </tr>\n",
       "    <tr>\n",
       "      <th>1</th>\n",
       "      <td>rosalee.fleming@enron.com</td>\n",
       "      <td>&lt;2156358.1075840283423.JavaMail.evans@thyme&gt;</td>\n",
       "      <td>lizard_ar@yahoo.com</td>\n",
       "    </tr>\n",
       "    <tr>\n",
       "      <th>2</th>\n",
       "      <td>rosalee.fleming@enron.com</td>\n",
       "      <td>&lt;20840329.1075840285588.JavaMail.evans@thyme&gt;</td>\n",
       "      <td>rob.bradley@enron.com</td>\n",
       "    </tr>\n",
       "    <tr>\n",
       "      <th>3</th>\n",
       "      <td>tori.wells@enron.com</td>\n",
       "      <td>&lt;22263156.1075840285610.JavaMail.evans@thyme&gt;</td>\n",
       "      <td>michael@optsevents.com</td>\n",
       "    </tr>\n",
       "    <tr>\n",
       "      <th>4</th>\n",
       "      <td>rosalee.fleming@enron.com</td>\n",
       "      <td>&lt;11395510.1075840285634.JavaMail.evans@thyme&gt;</td>\n",
       "      <td>jaime.alatorre@enron.com</td>\n",
       "    </tr>\n",
       "  </tbody>\n",
       "</table>\n",
       "</div>"
      ],
      "text/plain": [
       "                        From                                             ID  \\\n",
       "0  rosalee.fleming@enron.com  <18133935.1075840283210.JavaMail.evans@thyme>   \n",
       "1  rosalee.fleming@enron.com   <2156358.1075840283423.JavaMail.evans@thyme>   \n",
       "2  rosalee.fleming@enron.com  <20840329.1075840285588.JavaMail.evans@thyme>   \n",
       "3       tori.wells@enron.com  <22263156.1075840285610.JavaMail.evans@thyme>   \n",
       "4  rosalee.fleming@enron.com  <11395510.1075840285634.JavaMail.evans@thyme>   \n",
       "\n",
       "                          To  \n",
       "0  sherri.reinartz@enron.com  \n",
       "1        lizard_ar@yahoo.com  \n",
       "2      rob.bradley@enron.com  \n",
       "3     michael@optsevents.com  \n",
       "4   jaime.alatorre@enron.com  "
      ]
     },
     "execution_count": 11,
     "metadata": {},
     "output_type": "execute_result"
    }
   ],
   "source": [
    "email_df.head()"
   ]
  },
  {
   "cell_type": "markdown",
   "metadata": {
    "deletable": true,
    "editable": true
   },
   "source": [
    "Notice that the email in row 19 has multiple addresses on the To line. In these instances, let's create a sub-list there"
   ]
  },
  {
   "cell_type": "code",
   "execution_count": 119,
   "metadata": {
    "collapsed": false,
    "deletable": true,
    "editable": true
   },
   "outputs": [
    {
     "data": {
      "text/plain": [
       "From                            rosalee.fleming@enron.com\n",
       "ID          <27268321.1075840286103.JavaMail.evans@thyme>\n",
       "To      tori.wells@enron.com, vanessa.groscrand@enron....\n",
       "Name: 19, dtype: object"
      ]
     },
     "execution_count": 119,
     "metadata": {},
     "output_type": "execute_result"
    }
   ],
   "source": [
    "email_df.loc[19,:]"
   ]
  },
  {
   "cell_type": "markdown",
   "metadata": {
    "deletable": true,
    "editable": true
   },
   "source": [
    "Also note that some of the records have special characters in there"
   ]
  },
  {
   "cell_type": "code",
   "execution_count": 120,
   "metadata": {
    "collapsed": false,
    "deletable": true,
    "editable": true
   },
   "outputs": [],
   "source": [
    "email_df['To'] = email_df['To'].astype(str) \\\n",
    "    .replace('\\n','').replace('\\t','').replace(' ','') \\\n",
    "    .str.split(',')\n",
    "\n",
    "# str.replace('\\n','').str.split(',')"
   ]
  },
  {
   "cell_type": "code",
   "execution_count": 122,
   "metadata": {
    "collapsed": false,
    "deletable": true,
    "editable": true
   },
   "outputs": [
    {
     "data": {
      "text/plain": [
       "From                            rosalee.fleming@enron.com\n",
       "ID          <23327870.1075840296045.JavaMail.evans@thyme>\n",
       "To      [herrold@swbell.net,  david@enlineresources.co...\n",
       "Name: 91, dtype: object"
      ]
     },
     "execution_count": 122,
     "metadata": {},
     "output_type": "execute_result"
    }
   ],
   "source": [
    "email_df.loc[91, ]"
   ]
  },
  {
   "cell_type": "markdown",
   "metadata": {
    "deletable": true,
    "editable": true
   },
   "source": [
    "Let's find the emails that are to multiple people"
   ]
  },
  {
   "cell_type": "code",
   "execution_count": 69,
   "metadata": {
    "collapsed": false,
    "deletable": true,
    "editable": true
   },
   "outputs": [
    {
     "data": {
      "text/html": [
       "<div>\n",
       "<table border=\"1\" class=\"dataframe\">\n",
       "  <thead>\n",
       "    <tr style=\"text-align: right;\">\n",
       "      <th></th>\n",
       "      <th>From</th>\n",
       "      <th>ID</th>\n",
       "      <th>To</th>\n",
       "    </tr>\n",
       "  </thead>\n",
       "  <tbody>\n",
       "    <tr>\n",
       "      <th>19</th>\n",
       "      <td>rosalee.fleming@enron.com</td>\n",
       "      <td>&lt;27268321.1075840286103.JavaMail.evans@thyme&gt;</td>\n",
       "      <td>[tori.wells@enron.com,  vanessa.groscrand@enro...</td>\n",
       "    </tr>\n",
       "    <tr>\n",
       "      <th>42</th>\n",
       "      <td>rosalee.fleming@enron.com</td>\n",
       "      <td>&lt;2709412.1075840286591.JavaMail.evans@thyme&gt;</td>\n",
       "      <td>[sherrie@layfam.com,  sally.keepers@enron.com]</td>\n",
       "    </tr>\n",
       "    <tr>\n",
       "      <th>91</th>\n",
       "      <td>rosalee.fleming@enron.com</td>\n",
       "      <td>&lt;23327870.1075840296045.JavaMail.evans@thyme&gt;</td>\n",
       "      <td>[herrold@swbell.net,  david@enlineresources.co...</td>\n",
       "    </tr>\n",
       "    <tr>\n",
       "      <th>154</th>\n",
       "      <td>rosalee.fleming@enron.com</td>\n",
       "      <td>&lt;1508214.1075840283772.JavaMail.evans@thyme&gt;</td>\n",
       "      <td>[joe.hillings@enron.com,  cynthia.sandherr@enr...</td>\n",
       "    </tr>\n",
       "    <tr>\n",
       "      <th>189</th>\n",
       "      <td>rosalee.fleming@enron.com</td>\n",
       "      <td>&lt;26171346.1075840284007.JavaMail.evans@thyme&gt;</td>\n",
       "      <td>[joe.hillings@enron.com,  cynthia.sandherr@enr...</td>\n",
       "    </tr>\n",
       "  </tbody>\n",
       "</table>\n",
       "</div>"
      ],
      "text/plain": [
       "                          From                                             ID  \\\n",
       "19   rosalee.fleming@enron.com  <27268321.1075840286103.JavaMail.evans@thyme>   \n",
       "42   rosalee.fleming@enron.com   <2709412.1075840286591.JavaMail.evans@thyme>   \n",
       "91   rosalee.fleming@enron.com  <23327870.1075840296045.JavaMail.evans@thyme>   \n",
       "154  rosalee.fleming@enron.com   <1508214.1075840283772.JavaMail.evans@thyme>   \n",
       "189  rosalee.fleming@enron.com  <26171346.1075840284007.JavaMail.evans@thyme>   \n",
       "\n",
       "                                                    To  \n",
       "19   [tori.wells@enron.com,  vanessa.groscrand@enro...  \n",
       "42      [sherrie@layfam.com,  sally.keepers@enron.com]  \n",
       "91   [herrold@swbell.net,  david@enlineresources.co...  \n",
       "154  [joe.hillings@enron.com,  cynthia.sandherr@enr...  \n",
       "189  [joe.hillings@enron.com,  cynthia.sandherr@enr...  "
      ]
     },
     "execution_count": 69,
     "metadata": {},
     "output_type": "execute_result"
    }
   ],
   "source": [
    "email_df[email_df['To'].str.len() > 1].head()"
   ]
  },
  {
   "cell_type": "markdown",
   "metadata": {
    "deletable": true,
    "editable": true
   },
   "source": [
    "Since there are emails to multiple people we'll need to re-write the function to parse this out."
   ]
  },
  {
   "cell_type": "markdown",
   "metadata": {
    "deletable": true,
    "editable": true
   },
   "source": [
    "To whom did Rosalee send the most emails"
   ]
  },
  {
   "cell_type": "code",
   "execution_count": 126,
   "metadata": {
    "collapsed": false,
    "deletable": true,
    "editable": true
   },
   "outputs": [],
   "source": [
    "from_to = []\n",
    "for index, row in email_df.iterrows():\n",
    "    for to in row['To']:\n",
    "        from_to.append([index, row['From'], to \\\n",
    "                        .replace('\\n','').replace('\\t','').replace(' ','')])"
   ]
  },
  {
   "cell_type": "code",
   "execution_count": 129,
   "metadata": {
    "collapsed": false,
    "deletable": true,
    "editable": true
   },
   "outputs": [
    {
     "name": "stdout",
     "output_type": "stream",
     "text": [
      "[('lizard_ar@yahoo.com', 36), ('jeffrey.garten@yale.edu', 27), ('katherine.brown@enron.com', 26), ('expense.report@enron.com', 25), ('sherri.sera@enron.com', 21), ('sally.keepers@enron.com', 16), ('steven.kean@enron.com', 16), ('joe.hillings@enron.com', 15), ('skimmel@iexalt.net', 14), ('shea_dugger@i2.com', 13)]\n"
     ]
    }
   ],
   "source": [
    "from_rosalee_to = []\n",
    "from collections import Counter\n",
    "for item in from_to:\n",
    "    if (item[1] == 'rosalee.fleming@enron.com'):\n",
    "        from_rosalee_to.append(item[2])\n",
    "print(Counter(from_rosalee_to).most_common(10))"
   ]
  },
  {
   "cell_type": "markdown",
   "metadata": {
    "deletable": true,
    "editable": true
   },
   "source": [
    "# Let's Analyze the Sentiment of Rosalee"
   ]
  },
  {
   "cell_type": "code",
   "execution_count": 140,
   "metadata": {
    "collapsed": true,
    "deletable": true,
    "editable": true
   },
   "outputs": [],
   "source": [
    "baseDir = 'data/enron_emails/maildir/lay-k'\n",
    "\n",
    "email_id = []\n",
    "email_to_list = []\n",
    "email_from_list = []\n",
    "email_body = []\n",
    "\n",
    "for directory, subdirectory, filenames in os.walk(baseDir):\n",
    "    for filename in filenames:\n",
    "        email_analysis(os.path.join(directory,filename), email_id, email_to_list, email_from_list, email_body)\n",
    "        \n",
    "emailsWithBodyDict = {'ID':email_id, 'To':email_to_list, 'From':email_from_list, 'Body':email_body}"
   ]
  },
  {
   "cell_type": "code",
   "execution_count": 141,
   "metadata": {
    "collapsed": true,
    "deletable": true,
    "editable": true
   },
   "outputs": [],
   "source": [
    "emailWithBody_df = pd.DataFrame.from_dict(emailsWithBodyDict)"
   ]
  },
  {
   "cell_type": "code",
   "execution_count": 157,
   "metadata": {
    "collapsed": false,
    "deletable": true,
    "editable": true
   },
   "outputs": [],
   "source": [
    "sentiment_by_employee = []\n",
    "senders = []\n",
    "for index, row in emailWithBody_df.iterrows():\n",
    "    senders.append(row['From'])\n",
    "    sentiment_by_employee.append(TextBlob(row['Body']).sentiment.polarity)"
   ]
  },
  {
   "cell_type": "code",
   "execution_count": 158,
   "metadata": {
    "collapsed": false,
    "deletable": true,
    "editable": true
   },
   "outputs": [
    {
     "name": "stdout",
     "output_type": "stream",
     "text": [
      "5937\n",
      "5937\n"
     ]
    }
   ],
   "source": [
    "print(len(sentiment_by_employee))\n",
    "print(len(senders))"
   ]
  },
  {
   "cell_type": "code",
   "execution_count": 160,
   "metadata": {
    "collapsed": false,
    "deletable": true,
    "editable": true
   },
   "outputs": [],
   "source": [
    "sentDict = {'Sender':senders, 'Sentiment':sentiment_by_employee}\n",
    "sentiment_df = pd.DataFrame.from_dict(sentDict)"
   ]
  },
  {
   "cell_type": "code",
   "execution_count": 166,
   "metadata": {
    "collapsed": false,
    "deletable": true,
    "editable": true
   },
   "outputs": [
    {
     "data": {
      "text/plain": [
       "Sender\n",
       "rosalee.fleming@enron.com    0.120996\n",
       "Name: Sentiment, dtype: float64"
      ]
     },
     "execution_count": 166,
     "metadata": {},
     "output_type": "execute_result"
    }
   ],
   "source": [
    "# sentiment_df[sentiment_df['Sender'] == 'rosalee.fleming@enron.com']\n",
    "sentiment_df[sentiment_df['Sender'] == 'rosalee.fleming@enron.com'].groupby('Sender')['Sentiment'].agg('mean')"
   ]
  },
  {
   "cell_type": "markdown",
   "metadata": {
    "deletable": true,
    "editable": true
   },
   "source": [
    "# Now let's run it on the full data set\n",
    "\n",
    "Don't run this on local machine"
   ]
  },
  {
   "cell_type": "code",
   "execution_count": 176,
   "metadata": {
    "collapsed": true,
    "deletable": true,
    "editable": true
   },
   "outputs": [],
   "source": [
    "baseDir = 'data/enron_emails/maildir/lay-k'\n",
    "\n",
    "email_id = []\n",
    "email_to_list = []\n",
    "email_from_list = []\n",
    "email_body = []\n",
    "\n",
    "for directory, subdirectory, filenames in os.walk(baseDir):\n",
    "    for filename in filenames:\n",
    "        email_analysis(os.path.join(directory,filename), email_id, email_to_list, email_from_list, email_body)\n",
    "        \n",
    "emailsWithBodyDict = {'ID':email_id, 'To':email_to_list, 'From':email_from_list, 'Body':email_body}"
   ]
  },
  {
   "cell_type": "code",
   "execution_count": 190,
   "metadata": {
    "collapsed": false,
    "deletable": true,
    "editable": true
   },
   "outputs": [],
   "source": [
    "emailWithBody_df = pd.DataFrame.from_dict(emailsWithBodyDict)\n",
    "sentiment_by_employee = []\n",
    "senders = []\n",
    "for index, row in emailWithBody_df.iterrows():\n",
    "    parsed_senders = row['From'].replace('<','').replace('>','')\n",
    "    senders.append(parsed_senders)\n",
    "    sentiment_by_employee.append(TextBlob(row['Body']).sentiment.polarity)\n",
    "sentDict = {'Sender':senders, 'Sentiment':sentiment_by_employee}\n",
    "sentiment_df = pd.DataFrame.from_dict(sentDict)"
   ]
  },
  {
   "cell_type": "code",
   "execution_count": 199,
   "metadata": {
    "collapsed": false,
    "deletable": true,
    "editable": true
   },
   "outputs": [
    {
     "data": {
      "text/html": [
       "<div>\n",
       "<table border=\"1\" class=\"dataframe\">\n",
       "  <thead>\n",
       "    <tr style=\"text-align: right;\">\n",
       "      <th></th>\n",
       "      <th>mean</th>\n",
       "      <th>max</th>\n",
       "      <th>count</th>\n",
       "    </tr>\n",
       "    <tr>\n",
       "      <th>Sender</th>\n",
       "      <th></th>\n",
       "      <th></th>\n",
       "      <th></th>\n",
       "    </tr>\n",
       "  </thead>\n",
       "  <tbody>\n",
       "    <tr>\n",
       "      <th>rosalee.fleming@enron.com</th>\n",
       "      <td>0.120996</td>\n",
       "      <td>1.0</td>\n",
       "      <td>856</td>\n",
       "    </tr>\n",
       "  </tbody>\n",
       "</table>\n",
       "</div>"
      ],
      "text/plain": [
       "                               mean  max  count\n",
       "Sender                                         \n",
       "rosalee.fleming@enron.com  0.120996  1.0    856"
      ]
     },
     "execution_count": 199,
     "metadata": {},
     "output_type": "execute_result"
    }
   ],
   "source": [
    "sentiment_final = sentiment_df.groupby('Sender')['Sentiment'].agg(['mean','max','count'])\n",
    "sentiment_final[sentiment_final['count'] > 100].sort_values(['mean','count'], ascending=False).head()"
   ]
  },
  {
   "cell_type": "markdown",
   "metadata": {
    "deletable": true,
    "editable": true
   },
   "source": [
    "# Cluster Code"
   ]
  },
  {
   "cell_type": "code",
   "execution_count": 2,
   "metadata": {
    "collapsed": false,
    "deletable": true,
    "editable": true
   },
   "outputs": [
    {
     "ename": "NameError",
     "evalue": "name 'sc' is not defined",
     "output_type": "error",
     "traceback": [
      "\u001b[0;31m---------------------------------------------------------------------------\u001b[0m",
      "\u001b[0;31mNameError\u001b[0m                                 Traceback (most recent call last)",
      "\u001b[0;32m<ipython-input-2-27e0b86c0dc1>\u001b[0m in \u001b[0;36m<module>\u001b[0;34m()\u001b[0m\n\u001b[0;32m----> 1\u001b[0;31m \u001b[0memailsRaw\u001b[0m \u001b[0;34m=\u001b[0m \u001b[0msc\u001b[0m\u001b[0;34m.\u001b[0m\u001b[0mtextFile\u001b[0m\u001b[0;34m(\u001b[0m\u001b[0;34m\"hdfs://user/systest/datasets/lay-k\"\u001b[0m\u001b[0;34m)\u001b[0m\u001b[0;34m\u001b[0m\u001b[0m\n\u001b[0m",
      "\u001b[0;31mNameError\u001b[0m: name 'sc' is not defined"
     ]
    }
   ],
   "source": [
    "emailsRaw = sc.textFile(\"hdfs://user/systest/datasets/lay-k\")\n"
   ]
  }
 ],
 "metadata": {
  "kernelspec": {
   "display_name": "Python 3",
   "language": "python",
   "name": "python3"
  },
  "language_info": {
   "codemirror_mode": {
    "name": "ipython",
    "version": 3
   },
   "file_extension": ".py",
   "mimetype": "text/x-python",
   "name": "python",
   "nbconvert_exporter": "python",
   "pygments_lexer": "ipython3",
   "version": "3.5.3"
  }
 },
 "nbformat": 4,
 "nbformat_minor": 2
}
