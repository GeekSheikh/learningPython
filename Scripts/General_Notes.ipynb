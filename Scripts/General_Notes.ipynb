{
 "cells": [
  {
   "cell_type": "markdown",
   "metadata": {},
   "source": [
    "When using pandas, shift+tab inside a function parenthesis will show documentation.\n",
    "\n",
    "Pushing it multiple times will show more docs."
   ]
  },
  {
   "cell_type": "markdown",
   "metadata": {},
   "source": [
    "# Resources\n",
    "\n",
    "[git Repo](https://github.com/justmarkham/pandas-videos) for the Pandas Series By Data School\n",
    "\n",
    "[Data School YT Homepage](https://www.youtube.com/channel/UCnVzApLJE2ljPZSeQylSEyg)\n",
    "\n",
    "[What is ML & How Does it Work](https://www.youtube.com/watch?v=elojMnjn4kk)"
   ]
  },
  {
   "cell_type": "code",
   "execution_count": null,
   "metadata": {
    "collapsed": true
   },
   "outputs": [],
   "source": []
  }
 ],
 "metadata": {
  "kernelspec": {
   "display_name": "Python 3",
   "language": "python",
   "name": "python3"
  },
  "language_info": {
   "codemirror_mode": {
    "name": "ipython",
    "version": 3
   },
   "file_extension": ".py",
   "mimetype": "text/x-python",
   "name": "python",
   "nbconvert_exporter": "python",
   "pygments_lexer": "ipython3",
   "version": "3.6.0"
  }
 },
 "nbformat": 4,
 "nbformat_minor": 2
}
